{
 "cells": [
  {
   "cell_type": "markdown",
   "metadata": {},
   "source": [
    "# Regression\n",
    "In linear regression model, it means find the weight for each feature."
   ]
  },
  {
   "cell_type": "code",
   "execution_count": 3,
   "metadata": {},
   "outputs": [
    {
     "name": "stdout",
     "output_type": "stream",
     "text": [
      "dimensionality of the model parameter is (12,).\n",
      "model parameter is  [ 2.03721116e+02  1.09955585e-01 -1.93164831e+00 -4.90845229e-02\n",
      "  1.02194195e-01 -5.45232534e-02  4.00189587e-03  1.52537226e-04\n",
      " -2.04673020e+02  9.04608185e-01  6.41578531e-01  1.32320100e-01]\n",
      "MSE on train is 0.55670\n",
      "MSE on val is 0.59276\n",
      "MSE on test is 0.54795\n"
     ]
    }
   ],
   "source": [
    "Xtrain, ytrain, Xval, yval, Xtest, ytest = data_processing_linear_regression(filename, False, False, 0)\n",
    "w = linear_regression_noreg(Xtrain, ytrain)\n",
    "print(\"dimensionality of the model parameter is \", w.shape, \".\", sep=\"\")\n",
    "print(\"model parameter is \", np.array_str(w))\n",
    "mse = mean_square_error(w, Xtrain, ytrain)\n",
    "print(\"MSE on train is %.5f\" % mse)\n",
    "mse = mean_square_error(w, Xval, yval)\n",
    "print(\"MSE on val is %.5f\" % mse)\n",
    "mse = mean_square_error(w, Xtest, ytest)\n",
    "print(\"MSE on test is %.5f\" % mse)"
   ]
  },
  {
   "cell_type": "markdown",
   "metadata": {},
   "source": [
    "##  Handle Non-invertible Matrix\n",
    "There are cases that during the calculation, the matrix are non-invertible. We manually created that situation in the data_loader.py line 40. We simply manully set one row and one column in the dataset to be zero. If the smallest absolute value of all eigenvalue of a matrix is smaller than $10^{-5}$, the matrix is non-invertible. If the matrix is non-invertible, keep adding $10^{-1}*I$ until it is invertible."
   ]
  },
  {
   "cell_type": "code",
   "execution_count": 5,
   "metadata": {},
   "outputs": [
    {
     "name": "stdout",
     "output_type": "stream",
     "text": [
      "dimensionality of the model parameter is (12,).\n",
      "model parameter is  [ 1.72490981 -0.04898016 -2.05742338 -0.12068529  0.02838304 -0.81308859\n",
      "  0.00425276  0.          0.00675103  0.20653332  0.35756603  0.37653797]\n",
      "MSE on train is 0.57668\n",
      "MSE on val is 0.61082\n",
      "MSE on test is 0.52081\n"
     ]
    }
   ],
   "source": [
    "Xtrain, ytrain, Xval, yval, Xtest, ytest = data_processing_linear_regression(filename, True, False, 0)\n",
    "w = linear_regression_invertible(Xtrain, ytrain)\n",
    "print(\"dimensionality of the model parameter is \", w.shape, \".\", sep=\"\")\n",
    "print(\"model parameter is \", np.array_str(w))\n",
    "mse = mean_square_error(w, Xtrain, ytrain)\n",
    "print(\"MSE on train is %.5f\" % mse)\n",
    "mse = mean_square_error(w, Xval, yval)\n",
    "print(\"MSE on val is %.5f\" % mse)\n",
    "mse = mean_square_error(w, Xtest, ytest)\n",
    "print(\"MSE on test is %.5f\" % mse)"
   ]
  },
  {
   "cell_type": "markdown",
   "metadata": {},
   "source": [
    "## Regularized Linear Regression\n",
    "To prevent overfitting, we usually add regularization. For now, we will focus on L2 regularization."
   ]
  },
  {
   "cell_type": "code",
   "execution_count": 6,
   "metadata": {},
   "outputs": [
    {
     "name": "stdout",
     "output_type": "stream",
     "text": [
      "dimensionality of the model parameter is (12,).\n",
      "model parameter is  [ 1.72490981 -0.04898016 -2.05742338 -0.12068529  0.02838304 -0.81308859\n",
      "  0.00425276  0.          0.00675103  0.20653332  0.35756603  0.37653797]\n",
      "MSE on train is 0.57668\n",
      "MSE on val is 0.61082\n",
      "MSE on test is 0.52081\n"
     ]
    }
   ],
   "source": [
    "Xtrain, ytrain, Xval, yval, Xtest, ytest = data_processing_linear_regression(filename, True, False, 0)\n",
    "w = regularized_linear_regression(Xtrain, ytrain, 0.1)\n",
    "print(\"dimensionality of the model parameter is \", w.shape, \".\", sep=\"\")\n",
    "print(\"model parameter is \", np.array_str(w))\n",
    "mse = mean_square_error(w, Xtrain, ytrain)\n",
    "print(\"MSE on train is %.5f\" % mse)\n",
    "mse = mean_square_error(w, Xval, yval)\n",
    "print(\"MSE on val is %.5f\" % mse)\n",
    "mse = mean_square_error(w, Xtest, ytest)\n",
    "print(\"MSE on test is %.5f\" % mse)"
   ]
  },
  {
   "cell_type": "markdown",
   "metadata": {},
   "source": [
    "## Tune the Regularized Linear Hypter_Parameter\n",
    "The regularized_linear_regression(X, y, lambd), try different lambds and find the best lambd to minimize the MSE."
   ]
  },
  {
   "cell_type": "code",
   "execution_count": 7,
   "metadata": {},
   "outputs": [
    {
     "name": "stdout",
     "output_type": "stream",
     "text": [
      "Best Lambda =  1e-19\n",
      "dimensionality of the model parameter is 12.\n",
      "model parameter is  [ 2.03721116e+02  1.09955585e-01 -1.93164831e+00 -4.90845229e-02\n",
      "  1.02194195e-01 -5.45232534e-02  4.00189587e-03  1.52537226e-04\n",
      " -2.04673020e+02  9.04608185e-01  6.41578531e-01  1.32320100e-01]\n",
      "MSE on train is 0.55670\n",
      "MSE on val is 0.59276\n",
      "MSE on test is 0.54795\n"
     ]
    }
   ],
   "source": [
    "Xtrain, ytrain, Xval, yval, Xtest, ytest = data_processing_linear_regression(filename, False, False, 0)\n",
    "bestlambd = tune_lambda(Xtrain, ytrain, Xval, yval)\n",
    "print(\"Best Lambda =  \" + str(bestlambd))\n",
    "w = regularized_linear_regression(Xtrain, ytrain, bestlambd)\n",
    "print(\"dimensionality of the model parameter is \", len(w), \".\", sep=\"\")\n",
    "print(\"model parameter is \", np.array_str(w))\n",
    "mse = mean_square_error(w, Xtrain, ytrain)\n",
    "print(\"MSE on train is %.5f\" % mse)\n",
    "mse = mean_square_error(w, Xval, yval)\n",
    "print(\"MSE on val is %.5f\" % mse)\n",
    "mse = mean_square_error(w, Xtest, ytest)\n",
    "print(\"MSE on test is %.5f\" % mse)"
   ]
  },
  {
   "cell_type": "markdown",
   "metadata": {},
   "source": [
    "## Polynomial Regression\n",
    "You can check the detail on wiki: https://en.wikipedia.org/wiki/Polynomial_regression"
   ]
  },
  {
   "cell_type": "code",
   "execution_count": 8,
   "metadata": {},
   "outputs": [
    {
     "name": "stdout",
     "output_type": "stream",
     "text": [
      "if your maaping function is correct, simplely change the 'power' value to see how MSE change when 'power' changes\n",
      "Best Lambda =  1e-05\n",
      "dimensionality of the model parameter is 23.\n",
      "model parameter is  [ 1.25380817e+02  5.02384267e-01 -2.67773311e+00  9.80340233e-01\n",
      "  1.06212461e-01 -3.95578946e+00  2.39784392e-02  7.50076069e-03\n",
      " -3.12001040e+01 -4.86978603e+00  4.09420291e-01 -8.46119515e-01\n",
      " -2.72604969e-02  1.29686830e+00 -1.25860412e+00 -8.91481755e-04\n",
      "  1.57808283e+01 -2.28910275e-04 -2.75880957e-05 -8.24960608e+01\n",
      "  8.96138511e-01  1.80781412e-01  4.41502041e-02]\n",
      "MSE on train is 0.52549\n",
      "MSE on val is 0.54632\n",
      "MSE on test is 0.91839\n"
     ]
    }
   ],
   "source": [
    "print(\"if your maaping function is correct, simplely change the 'power' value to see how MSE change when 'power' changes\")\n",
    "power = 2\n",
    "Xtrain, ytrain, Xval, yval, Xtest, ytest = data_processing_linear_regression(filename, False, True, power)\n",
    "bestlambd = tune_lambda(Xtrain, ytrain, Xval, yval)\n",
    "print(\"Best Lambda =  \", bestlambd, sep=\"\")\n",
    "w = regularized_linear_regression(Xtrain, ytrain, bestlambd)\n",
    "print(\"dimensionality of the model parameter is \", len(w), \".\", sep=\"\")\n",
    "print(\"model parameter is \", np.array_str(w))\n",
    "mse = mean_square_error(w, Xtrain, ytrain)\n",
    "print(\"MSE on train is %.5f\" % mse)\n",
    "mse = mean_square_error(w, Xval, yval)\n",
    "print(\"MSE on val is %.5f\" % mse)\n",
    "mse = mean_square_error(w, Xtest, ytest)\n",
    "print(\"MSE on test is %.5f\" % mse)"
   ]
  },
  {
   "cell_type": "code",
   "execution_count": 9,
   "metadata": {},
   "outputs": [
    {
     "name": "stdout",
     "output_type": "stream",
     "text": [
      "if your maaping function is correct, simplely change the 'power' value to see how MSE change when 'power' changes\n",
      "best lambd is 1e-05\n",
      "when power = 2\n",
      "MSE on train is 0.52549\n",
      "MSE on val is 0.54632\n",
      "MSE on test is 0.91839\n",
      "best lambd is 0.0001\n",
      "when power = 3\n",
      "MSE on train is 0.51270\n",
      "MSE on val is 0.56245\n",
      "MSE on test is 1.04027\n",
      "best lambd is 1e-05\n",
      "when power = 4\n",
      "MSE on train is 0.50442\n",
      "MSE on val is 0.58264\n",
      "MSE on test is 143.92862\n",
      "best lambd is 0.001\n",
      "when power = 5\n",
      "MSE on train is 0.50099\n",
      "MSE on val is 0.52200\n",
      "MSE on test is 8426.40023\n",
      "best lambd is 100000\n",
      "when power = 6\n",
      "MSE on train is 0.56470\n",
      "MSE on val is 0.62845\n",
      "MSE on test is 53271.91274\n",
      "best lambd is 1\n",
      "when power = 7\n",
      "MSE on train is 0.50852\n",
      "MSE on val is 0.56452\n",
      "MSE on test is 3250702.67340\n",
      "best lambd is 1000000\n",
      "when power = 8\n",
      "MSE on train is 0.55971\n",
      "MSE on val is 0.96138\n",
      "MSE on test is 22096023.67578\n",
      "best lambd is 100000\n",
      "when power = 9\n",
      "MSE on train is 0.55184\n",
      "MSE on val is 4.12749\n",
      "MSE on test is 344800205.96206\n",
      "best lambd is 10000000\n",
      "when power = 10\n",
      "MSE on train is 0.55047\n",
      "MSE on val is 0.68111\n",
      "MSE on test is 46032200620.04108\n",
      "best lambd is 100000000\n",
      "when power = 11\n",
      "MSE on train is 4.19783\n",
      "MSE on val is 13.14118\n",
      "MSE on test is 568024107455.33032\n",
      "best lambd is 1000000000\n",
      "when power = 12\n",
      "MSE on train is 103.40129\n",
      "MSE on val is 364.24538\n",
      "MSE on test is 17811750704414.75391\n",
      "best lambd is 10000000000000\n",
      "when power = 13\n",
      "MSE on train is 408.96131\n",
      "MSE on val is 14401.36514\n",
      "MSE on test is 689042036664288.62500\n",
      "best lambd is 1000000000000\n",
      "when power = 14\n",
      "MSE on train is 3365.15331\n",
      "MSE on val is 5397.65827\n",
      "MSE on test is 73797428227683312.00000\n",
      "best lambd is 10000000000000\n",
      "when power = 15\n",
      "MSE on train is 10126.51370\n",
      "MSE on val is 28297.65643\n",
      "MSE on test is 990726004615812224.00000\n",
      "best lambd is 100000000000\n",
      "when power = 16\n",
      "MSE on train is 46053.51272\n",
      "MSE on val is 90521.53610\n",
      "MSE on test is 93802627049825337344.00000\n",
      "best lambd is 1000\n",
      "when power = 17\n",
      "MSE on train is 113045.33067\n",
      "MSE on val is 945755.77701\n",
      "MSE on test is 951620499372824192.00000\n",
      "best lambd is 10000000000\n",
      "when power = 18\n",
      "MSE on train is 344292.11692\n",
      "MSE on val is 13806350.15577\n",
      "MSE on test is 2558033646565823348736.00000\n",
      "best lambd is 100000000000000000\n",
      "when power = 19\n",
      "MSE on train is 1870747.22183\n",
      "MSE on val is 1294911.56150\n",
      "MSE on test is 3093901295872294518784.00000\n"
     ]
    }
   ],
   "source": [
    "print(\"if your maaping function is correct, simplely change the 'power' value to see how MSE change when 'power' changes\")\n",
    "power = 20\n",
    "for i in range(2, power):\n",
    "    Xtrain, ytrain, Xval, yval, Xtest, ytest = data_processing_linear_regression(filename, False, True, i)\n",
    "    bestlambd = tune_lambda(Xtrain, ytrain, Xval, yval)\n",
    "    print('best lambd is ' + str(bestlambd))\n",
    "    w = regularized_linear_regression(Xtrain, ytrain, bestlambd)\n",
    "    mse = mean_square_error(w, Xtrain, ytrain)\n",
    "    print('when power = ' + str(i))\n",
    "    print(\"MSE on train is %.5f\" % mse)\n",
    "    mse = mean_square_error(w, Xval, yval)\n",
    "    print(\"MSE on val is %.5f\" % mse)\n",
    "    mse = mean_square_error(w, Xtest, ytest)\n",
    "    print(\"MSE on test is %.5f\" % mse)"
   ]
  },
  {
   "cell_type": "code",
   "execution_count": null,
   "metadata": {},
   "outputs": [],
   "source": []
  }
 ],
 "metadata": {
  "kernelspec": {
   "display_name": "Python 3",
   "language": "python",
   "name": "python3"
  },
  "language_info": {
   "codemirror_mode": {
    "name": "ipython",
    "version": 3
   },
   "file_extension": ".py",
   "mimetype": "text/x-python",
   "name": "python",
   "nbconvert_exporter": "python",
   "pygments_lexer": "ipython3",
   "version": "3.7.1"
  }
 },
 "nbformat": 4,
 "nbformat_minor": 2
}
